{
 "cells": [
  {
   "cell_type": "markdown",
   "metadata": {},
   "source": [
    "# PageRank\n",
    "\n",
    "An implementation of PageRank.\n",
    "\n",
    "Sebastian Thomas (datascience at sebastianthomas dot de)"
   ]
  },
  {
   "cell_type": "code",
   "execution_count": 1,
   "metadata": {},
   "outputs": [],
   "source": [
    "import numpy as np\n",
    "from scipy.sparse.linalg import eigs"
   ]
  },
  {
   "cell_type": "code",
   "execution_count": 2,
   "metadata": {},
   "outputs": [],
   "source": [
    "def normalize(x, ord=None, axis=-1, handle_zeros=False):\n",
    "    norms = np.linalg.norm(x, ord=ord, axis=axis, keepdims=True)\n",
    "    \n",
    "    is_zero = norms == 0\n",
    "    if np.any(is_zero):\n",
    "        if handle_zeros:\n",
    "            norms[is_zero] = 1\n",
    "        else:\n",
    "            raise ValueError('Could not normalize since at least one norm is 0.')\n",
    "    \n",
    "    return x / norms"
   ]
  },
  {
   "cell_type": "code",
   "execution_count": 3,
   "metadata": {},
   "outputs": [],
   "source": [
    "def google_matrix(adjacency_matrix, damping=0.85, axis=1):\n",
    "    length = len(adjacency_matrix)\n",
    "    \n",
    "    adjusted_adjacency_matrix = normalize(\n",
    "        np.where(np.linalg.norm(adjacency_matrix, ord=1, axis=axis, keepdims=True) != 0, adjacency_matrix, 1.),\n",
    "        ord=1, axis=axis)\n",
    "    return damping*adjusted_adjacency_matrix + (1. - damping)*1./length\n",
    "\n",
    "\n",
    "def pagerank(adjacency_matrix, damping=0.85, axis=1, keepdims=False):\n",
    "    if axis == 1 or axis == -1:\n",
    "        _, eigenvector = eigs(google_matrix(adjacency_matrix, damping=damping, axis=axis).T, k=1)\n",
    "        pagerank = (eigenvector / np.sum(eigenvector)).real.T\n",
    "    elif axis == 0 or axis == -2:\n",
    "        _, eigenvector = eigs(google_matrix(adjacency_matrix, damping=damping, axis=axis), k=1)\n",
    "        pagerank = (eigenvector / np.sum(eigenvector)).real\n",
    "    else:\n",
    "        raise ValueError('Parameter \\'axis\\' has to be in [-2, -1, 0, 1].')\n",
    "    \n",
    "    return pagerank if keepdims else pagerank.flatten()"
   ]
  },
  {
   "cell_type": "markdown",
   "metadata": {},
   "source": [
    "We consider an example."
   ]
  },
  {
   "cell_type": "code",
   "execution_count": 4,
   "metadata": {},
   "outputs": [
    {
     "data": {
      "text/plain": [
       "array([0.36815068, 0.14180936, 0.28796163, 0.20207834])"
      ]
     },
     "execution_count": 4,
     "metadata": {},
     "output_type": "execute_result"
    }
   ],
   "source": [
    "A = np.array([[0, 1, 1, 1], [0, 0, 1, 1], [1, 0, 0, 0], [1, 0, 1, 0]])\n",
    "pagerank(A)"
   ]
  }
 ],
 "metadata": {
  "kernelspec": {
   "display_name": "Python 3",
   "language": "python",
   "name": "python3"
  },
  "language_info": {
   "codemirror_mode": {
    "name": "ipython",
    "version": 3
   },
   "file_extension": ".py",
   "mimetype": "text/x-python",
   "name": "python",
   "nbconvert_exporter": "python",
   "pygments_lexer": "ipython3",
   "version": "3.7.8"
  },
  "toc": {
   "base_numbering": 1,
   "nav_menu": {},
   "number_sections": false,
   "sideBar": true,
   "skip_h1_title": false,
   "title_cell": "Table of Contents",
   "title_sidebar": "Contents",
   "toc_cell": false,
   "toc_position": {},
   "toc_section_display": true,
   "toc_window_display": false
  }
 },
 "nbformat": 4,
 "nbformat_minor": 4
}
